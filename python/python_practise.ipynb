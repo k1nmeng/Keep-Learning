{
 "cells": [
  {
   "cell_type": "markdown",
   "id": "cafe4234-faac-4660-963a-eb1db552ba55",
   "metadata": {},
   "source": [
    "# Daily Practise (Python)"
   ]
  },
  {
   "cell_type": "markdown",
   "id": "6065cd3b-ce1b-47ee-b9cb-3160545c90b1",
   "metadata": {},
   "source": [
    "#### Q1 - Write a Python code to print \"Hello World\""
   ]
  },
  {
   "cell_type": "code",
   "execution_count": 1,
   "id": "26353017-aaec-408d-9837-e90822fdfc86",
   "metadata": {},
   "outputs": [
    {
     "name": "stdout",
     "output_type": "stream",
     "text": [
      "Hello World\n"
     ]
    }
   ],
   "source": [
    "name = \"Hello World\"\n",
    "print(name)"
   ]
  },
  {
   "cell_type": "markdown",
   "id": "aa294083-70f7-415e-9121-b3144270c677",
   "metadata": {},
   "source": [
    "#### Q2 Write a python code to do arithmetical operations addition and division"
   ]
  },
  {
   "cell_type": "code",
   "execution_count": 3,
   "id": "516b6dbf-770e-4f74-8a22-5c8aefcf97e1",
   "metadata": {},
   "outputs": [
    {
     "name": "stdin",
     "output_type": "stream",
     "text": [
      "Enter the 1st number:  10\n",
      "Enter the 2nd number:  10\n"
     ]
    },
    {
     "name": "stdout",
     "output_type": "stream",
     "text": [
      "Sum Result = 10.0 + 10.0 = 20.0\n"
     ]
    }
   ],
   "source": [
    "## Addition\n",
    "num1 = float(input(\"Enter the 1st number: \"))\n",
    "num2 = float(input(\"Enter the 2nd number: \"))\n",
    "sum_result = num1 + num2\n",
    "print(f\"Sum Result = {num1} + {num2} = {sum_result}\")"
   ]
  },
  {
   "cell_type": "code",
   "execution_count": 7,
   "id": "fced4895-6534-42c6-9311-0e5033c23fac",
   "metadata": {},
   "outputs": [
    {
     "name": "stdin",
     "output_type": "stream",
     "text": [
      "Enter the 1st number:  30\n",
      "Enter the 2nd number:  3\n"
     ]
    },
    {
     "name": "stdout",
     "output_type": "stream",
     "text": [
      "Division Result = 30.0 / 3.0 = 10.0\n"
     ]
    }
   ],
   "source": [
    "## Division\n",
    "num3 = float(input(\"Enter the 1st number: \"))\n",
    "num4 = float(input(\"Enter the 2nd number: \"))\n",
    "division_result = num3 / num4\n",
    "print(f\"Division Result = {num3} / {num4} = {division_result}\")"
   ]
  },
  {
   "cell_type": "markdown",
   "id": "e36e908b-b668-4aa9-adf6-ed3e5f758773",
   "metadata": {},
   "source": [
    "#### Q3 Write a python code to find the area of a triangle"
   ]
  },
  {
   "cell_type": "code",
   "execution_count": 9,
   "id": "59a34d23-fff7-4222-9669-410969b9d8db",
   "metadata": {},
   "outputs": [
    {
     "name": "stdin",
     "output_type": "stream",
     "text": [
      "Enter the the length of the base of the triangle:  10\n",
      "Enter the height of the triangle:  20\n"
     ]
    },
    {
     "name": "stdout",
     "output_type": "stream",
     "text": [
      " The area of the triangle = 100.0 \n"
     ]
    }
   ],
   "source": [
    "# User input the base and height from the user\n",
    "base_tri = float(input(\"Enter the the length of the base of the triangle: \"))\n",
    "height_tri = float(input(\"Enter the height of the triangle: \"))\n",
    "\n",
    "#Calculate the area of the triangle\n",
    "triangle_area = 0.5 * base_tri * height_tri\n",
    "\n",
    "# Display the result\n",
    "print(f\" The area of the triangle = {triangle_area} \")"
   ]
  },
  {
   "cell_type": "markdown",
   "id": "e6f8391e-baca-4d03-adcc-56d10c1e0bf9",
   "metadata": {},
   "source": [
    "#### Q4 Write a python code to swap 2 variables"
   ]
  },
  {
   "cell_type": "code",
   "execution_count": null,
   "id": "64fbdb93-ccec-4e55-a4f7-403c50a90774",
   "metadata": {},
   "outputs": [],
   "source": []
  }
 ],
 "metadata": {
  "kernelspec": {
   "display_name": "Python 3 (ipykernel)",
   "language": "python",
   "name": "python3"
  },
  "language_info": {
   "codemirror_mode": {
    "name": "ipython",
    "version": 3
   },
   "file_extension": ".py",
   "mimetype": "text/x-python",
   "name": "python",
   "nbconvert_exporter": "python",
   "pygments_lexer": "ipython3",
   "version": "3.12.7"
  }
 },
 "nbformat": 4,
 "nbformat_minor": 5
}
