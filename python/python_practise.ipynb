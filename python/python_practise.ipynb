{
 "cells": [
  {
   "cell_type": "markdown",
   "id": "cafe4234-faac-4660-963a-eb1db552ba55",
   "metadata": {},
   "source": [
    "# Daily Practise (Python)"
   ]
  },
  {
   "cell_type": "markdown",
   "id": "6065cd3b-ce1b-47ee-b9cb-3160545c90b1",
   "metadata": {},
   "source": [
    "#### Q1 - Write a Python code to print \"Hello World\""
   ]
  },
  {
   "cell_type": "code",
   "execution_count": 26,
   "id": "26353017-aaec-408d-9837-e90822fdfc86",
   "metadata": {},
   "outputs": [
    {
     "name": "stdout",
     "output_type": "stream",
     "text": [
      "Hello World\n"
     ]
    }
   ],
   "source": [
    "name = \"Hello World\"\n",
    "print(name)"
   ]
  },
  {
   "cell_type": "code",
   "execution_count": 27,
   "id": "80326c13-0459-4f51-938d-d1f0932c0da9",
   "metadata": {},
   "outputs": [
    {
     "name": "stdout",
     "output_type": "stream",
     "text": [
      "Hello World\n"
     ]
    }
   ],
   "source": [
    "print(\"Hello World\")"
   ]
  },
  {
   "cell_type": "markdown",
   "id": "aa294083-70f7-415e-9121-b3144270c677",
   "metadata": {},
   "source": [
    "#### Q2 - Write a python code to do arithmetical operations"
   ]
  },
  {
   "cell_type": "code",
   "execution_count": 1,
   "id": "516b6dbf-770e-4f74-8a22-5c8aefcf97e1",
   "metadata": {},
   "outputs": [
    {
     "name": "stdin",
     "output_type": "stream",
     "text": [
      "Enter the 1st number : 10\n",
      "Enter the 2nd number : 0\n"
     ]
    },
    {
     "name": "stdout",
     "output_type": "stream",
     "text": [
      "Addition Result : 10.0 + 0.0 = 10.0\n",
      "Substraction result : 10.0 - 0.0 = 10.0 \n",
      "Multiplication Result : 10.0 * 0.0 = 0.0\n",
      "Error, Division by zero is not allowed\n"
     ]
    }
   ],
   "source": [
    "# Enter the 2 numbers\n",
    "num2a = float(input('Enter the 1st number :'))\n",
    "num2b = float(input('Enter the 2nd number :'))\n",
    "\n",
    "# Addition (Calculations and show results)\n",
    "sum_result = num2a + num2b\n",
    "print(f\"Addition Result : {num2a} + {num2b} = {sum_result}\")\n",
    "\n",
    "# Substraction (Calculation and show result)\n",
    "subtraction_result = num2a - num2b\n",
    "print(f\"Substraction result : {num2a} - {num2b} = {subtraction_result} \")\n",
    "\n",
    "# Multiplication (Calculation and show result)\n",
    "multiply_result = num2a * num2b\n",
    "print(f\"Multiplication Result : {num2a} * {num2b} = {multiply_result}\")\n",
    "\n",
    "# Division (Calculation and show result)\n",
    "if num2b ==0:\n",
    "    print(\"Error, Division by zero is not allowed\")\n",
    "else:\n",
    "    divide_result = num2a / num2b\n",
    "    print(f\"Division result = {num2a} / {num2b} = {divide_result}\")\n"
   ]
  },
  {
   "cell_type": "markdown",
   "id": "e36e908b-b668-4aa9-adf6-ed3e5f758773",
   "metadata": {},
   "source": [
    "#### Q3 - Write a python code to find the area of a triangle"
   ]
  },
  {
   "cell_type": "code",
   "execution_count": 9,
   "id": "59a34d23-fff7-4222-9669-410969b9d8db",
   "metadata": {},
   "outputs": [
    {
     "name": "stdin",
     "output_type": "stream",
     "text": [
      "Enter the the length of the base of the triangle:  10\n",
      "Enter the height of the triangle:  20\n"
     ]
    },
    {
     "name": "stdout",
     "output_type": "stream",
     "text": [
      " The area of the triangle = 100.0 \n"
     ]
    }
   ],
   "source": [
    "# User input the base and height from the user\n",
    "base_tri = float(input(\"Enter the the length of the base of the triangle: \"))\n",
    "height_tri = float(input(\"Enter the height of the triangle: \"))\n",
    "\n",
    "#Calculate the area of the triangle\n",
    "triangle_area = 0.5 * base_tri * height_tri\n",
    "\n",
    "# Display the result\n",
    "print(f\" The area of the triangle = {triangle_area} \")"
   ]
  },
  {
   "cell_type": "markdown",
   "id": "e6f8391e-baca-4d03-adcc-56d10c1e0bf9",
   "metadata": {},
   "source": [
    "#### Q4 - Write a python code to swap 2 variables"
   ]
  },
  {
   "cell_type": "code",
   "execution_count": 11,
   "id": "64fbdb93-ccec-4e55-a4f7-403c50a90774",
   "metadata": {},
   "outputs": [
    {
     "name": "stdin",
     "output_type": "stream",
     "text": [
      "Enter the value of the 1st variable (a):  ABC\n",
      "Enter the value of the 2nd variable (b):  CDE\n"
     ]
    },
    {
     "name": "stdout",
     "output_type": "stream",
     "text": [
      "The original variable: a = ABC and b = CDE\n",
      "The swapped variable: a = CDE and b = ABC\n"
     ]
    }
   ],
   "source": [
    "# Input 2 numbers \n",
    "num4a = input(\"Enter the value of the 1st variable (a): \")\n",
    "num4b = input(\"Enter the value of the 2nd variable (b): \")\n",
    "\n",
    "# Display the original input variables\n",
    "print(f\"The original variable: a = {num4a} and b = {num4b}\")\n",
    "\n",
    "# Swap the value for the both variables\n",
    "temp_num4 = num4a\n",
    "num4a = num4b\n",
    "num4b = temp_num4\n",
    "\n",
    "# Display new swap variables \n",
    "print(f\"The swapped variable: a = {num4a} and b = {num4b}\")"
   ]
  },
  {
   "cell_type": "markdown",
   "id": "2acfb33d-c803-44c7-b217-a9fdf93640b3",
   "metadata": {},
   "source": [
    "#### Q5 - Write a python code to generate random number"
   ]
  },
  {
   "cell_type": "code",
   "execution_count": 19,
   "id": "1016956a-1969-4c02-82ac-5967726cf367",
   "metadata": {},
   "outputs": [
    {
     "name": "stdout",
     "output_type": "stream",
     "text": [
      "Random number: 17\n"
     ]
    }
   ],
   "source": [
    "import random\n",
    "print(f\"Random number: {random.randint(1,100)}\")"
   ]
  },
  {
   "cell_type": "markdown",
   "id": "5dc167dc-be39-41b3-96d1-d6f28ea5c255",
   "metadata": {},
   "source": [
    "#### Q6A - Write a python code to convert kilometres to miles"
   ]
  },
  {
   "cell_type": "code",
   "execution_count": 22,
   "id": "4c086e01-85d9-4c51-ad44-86faef97facd",
   "metadata": {},
   "outputs": [
    {
     "name": "stdin",
     "output_type": "stream",
     "text": [
      "Enter distance in kilometres:  10\n"
     ]
    },
    {
     "name": "stdout",
     "output_type": "stream",
     "text": [
      "10.0 kilometres is equal to 6.21371 miles\n"
     ]
    }
   ],
   "source": [
    "input_km6a = float(input(\"Enter distance in kilometres: \"))\n",
    "\n",
    "# Conversion factor : 1 kilometer = 0.621371 miles\n",
    "miles_convert6a = 0.621371\n",
    "\n",
    "output_miles6a = input_km * miles_convert\n",
    "\n",
    "print(f\"{input_km6a} kilometres is equal to {output_miles6a} miles\")"
   ]
  },
  {
   "cell_type": "markdown",
   "id": "38106592-2574-41ac-acd2-a08f6f0b7061",
   "metadata": {},
   "source": [
    "#### Q6B - Write a python code to convert miles to kilometres"
   ]
  },
  {
   "cell_type": "code",
   "execution_count": 24,
   "id": "8470f1b0-ece2-42c3-89f4-e4becc43c922",
   "metadata": {},
   "outputs": [
    {
     "name": "stdin",
     "output_type": "stream",
     "text": [
      "Enter distance in miles:  10\n"
     ]
    },
    {
     "name": "stdout",
     "output_type": "stream",
     "text": [
      "10.0 miles is equal to 16.09 kilometres\n"
     ]
    }
   ],
   "source": [
    "input_miles6b = float(input(\"Enter distance in miles: \"))\n",
    "\n",
    "# Conversion factor : 1 miles = 1.609 km\n",
    "km_convert6b = 1.609\n",
    "\n",
    "# Calculation \n",
    "output_km6b = input_miles6b * km_convert6b\n",
    "\n",
    "# Display the result \n",
    "print(f\"{input_miles6b} miles is equal to {output_km6b} kilometres\")"
   ]
  },
  {
   "cell_type": "markdown",
   "id": "0ae2d698-caef-4760-b0c3-a2accea0b35e",
   "metadata": {},
   "source": [
    "#### Q7A - Write a python code to convert temperature from Celsius to Fahrenheit"
   ]
  },
  {
   "cell_type": "code",
   "execution_count": 19,
   "id": "e5be5a04-cc54-4690-8f4d-3ca5c96795c1",
   "metadata": {
    "scrolled": true
   },
   "outputs": [
    {
     "name": "stdin",
     "output_type": "stream",
     "text": [
      "Please input the temperature in Celsius :  30\n"
     ]
    },
    {
     "name": "stdout",
     "output_type": "stream",
     "text": [
      "30.0 degrees Celsius is equal to 86.0 degrees Fahrenheit\n"
     ]
    }
   ],
   "source": [
    "# Input the temperature in celsius\n",
    "celsius_7a = float(input(\"Please input the temperature in Celsius : \"))\n",
    "\n",
    "# Convert formula for celsius to fahrenheit = celsius * 9/5 + 32\n",
    "fahrenheit_7a = celsius_7a * 9 / 5 + 32\n",
    "\n",
    "# Show the result of the conversion\n",
    "print(f\"{celsius_7a} degrees Celsius is equal to {fahrenheit_7a} degrees Fahrenheit\")\n",
    "\n",
    "        "
   ]
  },
  {
   "cell_type": "markdown",
   "id": "fed01e01-a8e4-446e-b47b-f5f06576a7b2",
   "metadata": {},
   "source": [
    "#### Q7B - Write a python code to convert temperature from Fahrenheit to Celsius"
   ]
  },
  {
   "cell_type": "code",
   "execution_count": 27,
   "id": "1da28872-ebaf-44a8-b031-8e803ce605fa",
   "metadata": {},
   "outputs": [
    {
     "name": "stdin",
     "output_type": "stream",
     "text": [
      "PLease input the temperature in Fahrenheit :  100\n"
     ]
    },
    {
     "name": "stdout",
     "output_type": "stream",
     "text": [
      "100.0 degrees Fahrenheit is equal to 37.77777777777778 degrees Celsius\n"
     ]
    }
   ],
   "source": [
    "# Input the temperature in fahrenheit\n",
    "fahrenheit_7b = float(input(\"PLease input the temperature in Fahrenheit : \"))\n",
    "\n",
    "# Conveert formula from fahrenheit to celsius = (fahrenheit - 32) * 5 / 9\n",
    "celsius_7b = (fahrenheit_7b - 32) * 5 / 9\n",
    "\n",
    "# Show the result of the conversion\n",
    "print(f\"{fahrenheit_7b} degrees Fahrenheit is equal to {celsius_7b} degrees Celsius\")"
   ]
  },
  {
   "cell_type": "markdown",
   "id": "86b2ec02-7041-45e2-84a8-4317520d7e47",
   "metadata": {},
   "source": [
    "#### Q8 - Write a python code to display calendar"
   ]
  },
  {
   "cell_type": "code",
   "execution_count": 34,
   "id": "faa78e90-bef9-43ba-9cca-b040be9d7554",
   "metadata": {},
   "outputs": [
    {
     "name": "stdin",
     "output_type": "stream",
     "text": [
      "Enter Year:  1981\n",
      "Enter month:  2\n"
     ]
    },
    {
     "name": "stdout",
     "output_type": "stream",
     "text": [
      " \n",
      "   February 1981\n",
      "Mo Tu We Th Fr Sa Su\n",
      "                   1\n",
      " 2  3  4  5  6  7  8\n",
      " 9 10 11 12 13 14 15\n",
      "16 17 18 19 20 21 22\n",
      "23 24 25 26 27 28\n",
      "\n"
     ]
    }
   ],
   "source": [
    "import calendar\n",
    "\n",
    "# input year and month\n",
    "year = int(input('Enter Year: '))\n",
    "month = int(input('Enter month: '))\n",
    "\n",
    "# line break\n",
    "print(\" \")\n",
    "\n",
    "# \n",
    "calendar_q8 = calendar.month(year,month)\n",
    "print(calendar_q8)"
   ]
  },
  {
   "cell_type": "markdown",
   "id": "d8df7d8d-e199-4a47-aa41-0cfbf9e5b5e3",
   "metadata": {},
   "source": [
    "#### Q9 - Write a Python program to solve quadratic equation.\n",
    "\n",
    "The standard form of a quadratic equation is:\n",
    "\n",
    "𝑎𝑥2 + 𝑏𝑥 + 𝑐 = 0\n",
    "\n",
    "where\n",
    "\n",
    "a, b and c are real numbers and\n",
    "\n",
    "𝑎 ≠0\n",
    "\n",
    "The solutions of this quadratic equation is given by:\n",
    "\n",
    "(−𝑏 ± (𝑏2 − 4𝑎𝑐)1/2)/(2𝑎)\n"
   ]
  },
  {
   "cell_type": "code",
   "execution_count": 17,
   "id": "8ce3632a-4f42-47b6-99eb-4da704e1f867",
   "metadata": {},
   "outputs": [
    {
     "name": "stdin",
     "output_type": "stream",
     "text": [
      "Enter coefficient 1:  10\n",
      "Enter coefficient 2:  20\n",
      "Enter coefficient 3:  50\n"
     ]
    },
    {
     "name": "stdout",
     "output_type": "stream",
     "text": [
      "Root 1 : -1.0 + 2.0i\n",
      "Root 2 : -1.0 - 2.0i\n"
     ]
    }
   ],
   "source": [
    "import math\n",
    "\n",
    "# input coefficients\n",
    "coff_1 = float(input(\"Enter coefficient 1: \"))\n",
    "coff_2 = float(input(\"Enter coefficient 2: \"))\n",
    "coff_3 = float(input(\"Enter coefficient 3: \"))\n",
    "\n",
    "# Calculate the discriminant\n",
    "discriminant = coff_2**2 - 4*coff_1*coff_3\n",
    "\n",
    "# Check whether the discriminant is positive , negative or zero\n",
    "if discriminant > 0:\n",
    "    # 2 real and distinct roots\n",
    "    root_1 = (-coff_2 + math.sqrt(discriminant)) / (2*coff_1)\n",
    "    root_2 = (-coff_2 - math.sqrt(discriminant)) / (2*coff_1)\n",
    "    print(f\"Root 1 : {root_1}\")\n",
    "    print(f\"Root 2 : {root_2}\")\n",
    "elif discriminant == 0:\n",
    "    # One real root (repeated)\n",
    "    root_3 = -coff_2 / (2*coff_1)\n",
    "    print(f\"Root : {root_3}\")\n",
    "else:\n",
    "    # complex roots\n",
    "    real_part = -coff_2 / (2*coff_1)\n",
    "    imaginary_part = math.sqrt(abs(discriminant)) / (2*coff_1)\n",
    "    print(f\"Root 1 : {real_part} + {imaginary_part}i\")\n",
    "    print(f\"Root 2 : {real_part} - {imaginary_part}i\")\n",
    "\n",
    "    "
   ]
  },
  {
   "cell_type": "markdown",
   "id": "7d5d8ccb-57c4-480f-a75b-fdbe31d22cb2",
   "metadata": {},
   "source": [
    "#### Q10 - Write a python code to swap 2 variables without using temp variable"
   ]
  },
  {
   "cell_type": "code",
   "execution_count": 22,
   "id": "3a713b2b-7d92-402a-ae42-4deb932fb1e8",
   "metadata": {},
   "outputs": [
    {
     "name": "stdin",
     "output_type": "stream",
     "text": [
      "Enter 1st variable :  abc\n",
      "Enter 2nd variable :  def\n"
     ]
    },
    {
     "name": "stdout",
     "output_type": "stream",
     "text": [
      "The original variable : 1st = abc, 2nd = def\n",
      "The swapped variable : 1st = def, 2nd = abc\n"
     ]
    }
   ],
   "source": [
    "# input 2 variables\n",
    "q10_a = input(\"Enter 1st variable : \")\n",
    "q10_b = input(\"Enter 2nd variable : \")\n",
    "print(f\"The original variable : 1st = {q10_a}, 2nd = {q10_b}\")\n",
    "\n",
    "# swapped the both variable without temporary variable\n",
    "q10_a, q10_b = q10_b, q10_a\n",
    "\n",
    "# Show the swap result\n",
    "print(f\"The swapped variable : 1st = {q10_a}, 2nd = {q10_b}\")"
   ]
  },
  {
   "cell_type": "markdown",
   "id": "3bd2dbd9-64d6-4334-a5ef-a1e867eae518",
   "metadata": {},
   "source": [
    "#### Q11 - Write a python code to check if a number is positive , negative or zero"
   ]
  },
  {
   "cell_type": "code",
   "execution_count": 29,
   "id": "7c20b3c2-10e2-45f9-aca1-ca2d796b4dc6",
   "metadata": {},
   "outputs": [
    {
     "name": "stdin",
     "output_type": "stream",
     "text": [
      "Please enter a number :  0\n"
     ]
    },
    {
     "name": "stdout",
     "output_type": "stream",
     "text": [
      "The input number is zero\n"
     ]
    }
   ],
   "source": [
    "# Input a number\n",
    "q11_a = int(input(\"Please enter a number : \"))\n",
    "\n",
    "# Check the input number by using if else statement for condition\n",
    "if q11_a > 0:\n",
    "    print(\"The input number is positive\")\n",
    "elif q11_a < 0:\n",
    "    print(\"The input number is negative\")\n",
    "else:\n",
    "    print(\"The input number is zero\")"
   ]
  },
  {
   "cell_type": "markdown",
   "id": "982a8773-2d2e-470f-892f-c1a8214c4f4b",
   "metadata": {},
   "source": [
    "#### Q12 - Write a python code to check is a input number is Odd or Even"
   ]
  },
  {
   "cell_type": "code",
   "execution_count": 44,
   "id": "4f6fdb62-2d98-492e-a8fe-0adf4cc58aea",
   "metadata": {},
   "outputs": [
    {
     "name": "stdin",
     "output_type": "stream",
     "text": [
      "Please enter a number:  15\n"
     ]
    },
    {
     "name": "stdout",
     "output_type": "stream",
     "text": [
      "The input number (15) is odd\n"
     ]
    }
   ],
   "source": [
    "# Input a number\n",
    "q12_a = int(input(\"Please enter a number: \"))\n",
    "\n",
    "\n",
    "# Check the input number whether odd and even\n",
    "if q12_a % 2 == 0:\n",
    "    print(f\"The input number ({q12_a}) is even\")\n",
    "else:\n",
    "    print(f\"The input number ({q12_a}) is odd\")"
   ]
  },
  {
   "cell_type": "code",
   "execution_count": null,
   "id": "24eef244-5a41-4a51-a8e1-14890cd809ed",
   "metadata": {},
   "outputs": [],
   "source": []
  }
 ],
 "metadata": {
  "kernelspec": {
   "display_name": "Python [conda env:base] *",
   "language": "python",
   "name": "conda-base-py"
  },
  "language_info": {
   "codemirror_mode": {
    "name": "ipython",
    "version": 3
   },
   "file_extension": ".py",
   "mimetype": "text/x-python",
   "name": "python",
   "nbconvert_exporter": "python",
   "pygments_lexer": "ipython3",
   "version": "3.12.7"
  }
 },
 "nbformat": 4,
 "nbformat_minor": 5
}
