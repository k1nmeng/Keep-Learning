{
 "cells": [
  {
   "cell_type": "markdown",
   "id": "cafe4234-faac-4660-963a-eb1db552ba55",
   "metadata": {},
   "source": [
    "# Daily Practise (Python)"
   ]
  },
  {
   "cell_type": "markdown",
   "id": "6065cd3b-ce1b-47ee-b9cb-3160545c90b1",
   "metadata": {},
   "source": [
    "#### Q1 - Write a Python code to print \"Hello World\""
   ]
  },
  {
   "cell_type": "code",
   "execution_count": 26,
   "id": "26353017-aaec-408d-9837-e90822fdfc86",
   "metadata": {},
   "outputs": [
    {
     "name": "stdout",
     "output_type": "stream",
     "text": [
      "Hello World\n"
     ]
    }
   ],
   "source": [
    "name = \"Hello World\"\n",
    "print(name)"
   ]
  },
  {
   "cell_type": "code",
   "execution_count": 27,
   "id": "80326c13-0459-4f51-938d-d1f0932c0da9",
   "metadata": {},
   "outputs": [
    {
     "name": "stdout",
     "output_type": "stream",
     "text": [
      "Hello World\n"
     ]
    }
   ],
   "source": [
    "print(\"Hello World\")"
   ]
  },
  {
   "cell_type": "markdown",
   "id": "aa294083-70f7-415e-9121-b3144270c677",
   "metadata": {},
   "source": [
    "#### Q2 Write a python code to do arithmetical operations addition and division"
   ]
  },
  {
   "cell_type": "code",
   "execution_count": 29,
   "id": "516b6dbf-770e-4f74-8a22-5c8aefcf97e1",
   "metadata": {},
   "outputs": [
    {
     "name": "stdin",
     "output_type": "stream",
     "text": [
      "Enter the 1st number:  10\n",
      "Enter the 2nd number:  20\n"
     ]
    },
    {
     "name": "stdout",
     "output_type": "stream",
     "text": [
      "Sum Result = 10.0 + 20.0 = 30.0\n"
     ]
    }
   ],
   "source": [
    "## Addition\n",
    "num1 = float(input(\"Enter the 1st number: \"))\n",
    "num2 = float(input(\"Enter the 2nd number: \"))\n",
    "\n",
    "sum_result_q2 = num1 + num2\n",
    "\n",
    "print(f\"Sum Result = {num1} + {num2} = {sum_result_q2}\")"
   ]
  },
  {
   "cell_type": "code",
   "execution_count": 32,
   "id": "fced4895-6534-42c6-9311-0e5033c23fac",
   "metadata": {},
   "outputs": [
    {
     "name": "stdin",
     "output_type": "stream",
     "text": [
      "Enter the 1st number:  100\n",
      "Enter the 2nd number:  10\n"
     ]
    },
    {
     "name": "stdout",
     "output_type": "stream",
     "text": [
      "Division Result = 100.0 / 10.0 = 10.0\n"
     ]
    }
   ],
   "source": [
    "## Division\n",
    "num3 = float(input(\"Enter the 1st number: \"))\n",
    "num4 = float(input(\"Enter the 2nd number: \"))\n",
    "\n",
    "division_result = num3 / num4\n",
    "\n",
    "print(f\"Division Result = {num3} / {num4} = {division_result}\")"
   ]
  },
  {
   "cell_type": "markdown",
   "id": "e36e908b-b668-4aa9-adf6-ed3e5f758773",
   "metadata": {},
   "source": [
    "#### Q3 Write a python code to find the area of a triangle"
   ]
  },
  {
   "cell_type": "code",
   "execution_count": 9,
   "id": "59a34d23-fff7-4222-9669-410969b9d8db",
   "metadata": {},
   "outputs": [
    {
     "name": "stdin",
     "output_type": "stream",
     "text": [
      "Enter the the length of the base of the triangle:  10\n",
      "Enter the height of the triangle:  20\n"
     ]
    },
    {
     "name": "stdout",
     "output_type": "stream",
     "text": [
      " The area of the triangle = 100.0 \n"
     ]
    }
   ],
   "source": [
    "# User input the base and height from the user\n",
    "base_tri = float(input(\"Enter the the length of the base of the triangle: \"))\n",
    "height_tri = float(input(\"Enter the height of the triangle: \"))\n",
    "\n",
    "#Calculate the area of the triangle\n",
    "triangle_area = 0.5 * base_tri * height_tri\n",
    "\n",
    "# Display the result\n",
    "print(f\" The area of the triangle = {triangle_area} \")"
   ]
  },
  {
   "cell_type": "markdown",
   "id": "e6f8391e-baca-4d03-adcc-56d10c1e0bf9",
   "metadata": {},
   "source": [
    "#### Q4 Write a python code to swap 2 variables"
   ]
  },
  {
   "cell_type": "code",
   "execution_count": 11,
   "id": "64fbdb93-ccec-4e55-a4f7-403c50a90774",
   "metadata": {},
   "outputs": [
    {
     "name": "stdin",
     "output_type": "stream",
     "text": [
      "Enter the value of the 1st variable (a):  ABC\n",
      "Enter the value of the 2nd variable (b):  CDE\n"
     ]
    },
    {
     "name": "stdout",
     "output_type": "stream",
     "text": [
      "The original variable: a = ABC and b = CDE\n",
      "The swapped variable: a = CDE and b = ABC\n"
     ]
    }
   ],
   "source": [
    "# Input 2 numbers \n",
    "num4a = input(\"Enter the value of the 1st variable (a): \")\n",
    "num4b = input(\"Enter the value of the 2nd variable (b): \")\n",
    "\n",
    "# Display the original input variables\n",
    "print(f\"The original variable: a = {num4a} and b = {num4b}\")\n",
    "\n",
    "# Swap the value for the both variables\n",
    "temp_num4 = num4a\n",
    "num4a = num4b\n",
    "num4b = temp_num4\n",
    "\n",
    "# Display new swap variables \n",
    "print(f\"The swapped variable: a = {num4a} and b = {num4b}\")"
   ]
  },
  {
   "cell_type": "markdown",
   "id": "2acfb33d-c803-44c7-b217-a9fdf93640b3",
   "metadata": {},
   "source": [
    "#### Q5 Write a python code to generate random number"
   ]
  },
  {
   "cell_type": "code",
   "execution_count": 19,
   "id": "1016956a-1969-4c02-82ac-5967726cf367",
   "metadata": {},
   "outputs": [
    {
     "name": "stdout",
     "output_type": "stream",
     "text": [
      "Random number: 17\n"
     ]
    }
   ],
   "source": [
    "import random\n",
    "print(f\"Random number: {random.randint(1,100)}\")"
   ]
  },
  {
   "cell_type": "markdown",
   "id": "5dc167dc-be39-41b3-96d1-d6f28ea5c255",
   "metadata": {},
   "source": [
    "#### Q6A Write a python code to convert kilometres to miles"
   ]
  },
  {
   "cell_type": "code",
   "execution_count": 22,
   "id": "4c086e01-85d9-4c51-ad44-86faef97facd",
   "metadata": {},
   "outputs": [
    {
     "name": "stdin",
     "output_type": "stream",
     "text": [
      "Enter distance in kilometres:  10\n"
     ]
    },
    {
     "name": "stdout",
     "output_type": "stream",
     "text": [
      "10.0 kilometres is equal to 6.21371 miles\n"
     ]
    }
   ],
   "source": [
    "input_km6a = float(input(\"Enter distance in kilometres: \"))\n",
    "\n",
    "# Conversion factor : 1 kilometer = 0.621371 miles\n",
    "miles_convert6a = 0.621371\n",
    "\n",
    "output_miles6a = input_km * miles_convert\n",
    "\n",
    "print(f\"{input_km6a} kilometres is equal to {output_miles6a} miles\")"
   ]
  },
  {
   "cell_type": "markdown",
   "id": "38106592-2574-41ac-acd2-a08f6f0b7061",
   "metadata": {},
   "source": [
    "#### Q6B Write a python code to convert miles to kilometres"
   ]
  },
  {
   "cell_type": "code",
   "execution_count": 24,
   "id": "8470f1b0-ece2-42c3-89f4-e4becc43c922",
   "metadata": {},
   "outputs": [
    {
     "name": "stdin",
     "output_type": "stream",
     "text": [
      "Enter distance in miles:  10\n"
     ]
    },
    {
     "name": "stdout",
     "output_type": "stream",
     "text": [
      "10.0 miles is equal to 16.09 kilometres\n"
     ]
    }
   ],
   "source": [
    "input_miles6b = float(input(\"Enter distance in miles: \"))\n",
    "\n",
    "# Conversion factor : 1 miles = 1.609 km\n",
    "km_convert6b = 1.609\n",
    "\n",
    "# Calculation \n",
    "output_km6b = input_miles6b * km_convert6b\n",
    "\n",
    "# Display the result \n",
    "print(f\"{input_miles6b} miles is equal to {output_km6b} kilometres\")"
   ]
  },
  {
   "cell_type": "code",
   "execution_count": null,
   "id": "b3bd2e8b-5d26-4559-9e85-e3d5fa2a6b4f",
   "metadata": {},
   "outputs": [],
   "source": []
  }
 ],
 "metadata": {
  "kernelspec": {
   "display_name": "Python 3 (ipykernel)",
   "language": "python",
   "name": "python3"
  },
  "language_info": {
   "codemirror_mode": {
    "name": "ipython",
    "version": 3
   },
   "file_extension": ".py",
   "mimetype": "text/x-python",
   "name": "python",
   "nbconvert_exporter": "python",
   "pygments_lexer": "ipython3",
   "version": "3.12.7"
  }
 },
 "nbformat": 4,
 "nbformat_minor": 5
}
